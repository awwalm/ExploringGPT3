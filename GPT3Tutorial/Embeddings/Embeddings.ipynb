{
 "cells": [
  {
   "cell_type": "markdown",
   "id": "deb99f96-e35e-4faa-bb05-eaba1d42841b",
   "metadata": {},
   "source": [
    "## GPT-3 Embeddings\n",
    "**An updated approach to semantic search.**"
   ]
  },
  {
   "cell_type": "markdown",
   "id": "9356d0dd-de72-45c4-9ea6-4afbb28f8621",
   "metadata": {},
   "source": [
    "The embedding is an **information dense representation of the semantic meaning of a piece of text**.\n",
    "Each embedding is a vector of floating point numbers, such that the **distance between two embeddings in the vector space is correlated with semantic similarity between two inputs** in the original format.\n",
    "For example, if two texts are similar, then their vector representations should also be similar.\n",
    "\n",
    "Use cases:\n",
    "\n",
    "- Text Similarity\n",
    "- Semantic Search\n",
    "- Classification\n",
    "- Clustering\n",
    "\n",
    "1. **Similarity embeddings** : These models are good at capturing semantic similarity between two or more pieces of text.\n",
    "2. **Text search embeddings**: These models help measure whether long documents are relevant to a short search query. There are two types: one for *embedding the documents* to be retrieved, and one for **embedding the search query**."
   ]
  },
  {
   "cell_type": "code",
   "execution_count": 1,
   "id": "e39f4a66-ace7-499a-93a3-008718aa176d",
   "metadata": {},
   "outputs": [],
   "source": [
    "# Import required libraries\n",
    "\n",
    "import os\n",
    "import openai, numpy as np, pandas as pd\n",
    "from openai.embeddings_utils import get_embedding, cosine_similarity"
   ]
  },
  {
   "cell_type": "code",
   "execution_count": null,
   "id": "484f333b-1aba-4a0f-a802-0b92f05e68aa",
   "metadata": {},
   "outputs": [],
   "source": [
    "# API key stored as an environment variable\n",
    "\n",
    "openai.api_key = os.environ[\"OPENAI_API_KEY\"]\n",
    "# print(openai.api_key) # You don't wanna do that."
   ]
  },
  {
   "cell_type": "code",
   "execution_count": 3,
   "id": "5c2373e7-0913-4060-bac9-b24c0d4dcd47",
   "metadata": {},
   "outputs": [],
   "source": [
    "# Text Similarity: captures semantic similarity between pieces of text.\n",
    "\n",
    "document = [\"eating food\", \"I am hungry\", \"I am traveling\", \"exploring new places\"]\n",
    "response = openai.Embedding.create(\n",
    "    input=document,\n",
    "    engine=\"text-similarity-curie-001\"\n",
    ")"
   ]
  },
  {
   "cell_type": "code",
   "execution_count": 6,
   "id": "a70cdcbb-113d-4227-b1c2-445e134e2f2c",
   "metadata": {},
   "outputs": [
    {
     "name": "stdout",
     "output_type": "stream",
     "text": [
      "<class 'list'> | 4\n",
      "<class 'openai.openai_object.OpenAIObject'> | 3\n",
      "dict_keys(['object', 'index', 'embedding'])\n",
      "[-0.0019766087643802166, 0.0014332111459225416, -0.015559284016489983, 0.011673991568386555, -0.01459022518247366, 0.009178890846669674, -0.0053796363063156605, -0.011148707009851933, 0.010596252977848053, 0.02966950833797455, 0.0068060546182096004, -0.015504944138228893, -0.007222659420222044, 0.011357009410858154, 0.016854381188750267, 0.014372865669429302, -0.019580425694584846, -0.026680821552872658, 0.01044229045510292, 0.001698117470368743]\n"
     ]
    }
   ],
   "source": [
    "# Interrogate response\n",
    "\n",
    "print(*[f\"{type(r)} | {len(r)}\" for r in [response[\"data\"], response[\"data\"][0]]], sep='\\n')\n",
    "print(response[\"data\"][0].keys())\n",
    "print(response[\"data\"][0][\"embedding\"][:20])"
   ]
  },
  {
   "cell_type": "code",
   "execution_count": 7,
   "id": "e16bb4aa-fc93-42f9-8f84-f2b384dd7d20",
   "metadata": {},
   "outputs": [],
   "source": [
    "# Embeddings (vector representation) for the contents of `document`\n",
    "\n",
    "embedding_a = response['data'][0]['embedding']  # eating food\n",
    "embedding_b = response['data'][1]['embedding']  # I am hungry\n",
    "embedding_c = response['data'][2]['embedding']  # I am traveling\n",
    "embedding_d = response['data'][3]['embedding']  # exploring new places"
   ]
  },
  {
   "cell_type": "code",
   "execution_count": 8,
   "id": "6ac50943-2f86-4edd-8f14-8e9fed6e8e2c",
   "metadata": {},
   "outputs": [
    {
     "name": "stdout",
     "output_type": "stream",
     "text": [
      "0.8482169927861086\n",
      "0.7816395422937359\n",
      "0.8348286175991912\n"
     ]
    }
   ],
   "source": [
    "# Compare embeddings (using dot products)\n",
    "\n",
    "print(np.dot(embedding_a, embedding_b))   # eating food vs I am hungry\n",
    "print(np.dot(embedding_a, embedding_c))   # eating food vs I am traveling\n",
    "print(np.dot(embedding_c, embedding_d))   # I am traveling vs exploring new places"
   ]
  },
  {
   "cell_type": "code",
   "execution_count": 9,
   "id": "0f246079-faf6-4ab6-bb30-cfd3f142c2b1",
   "metadata": {},
   "outputs": [
    {
     "data": {
      "text/html": [
       "<div>\n",
       "<style scoped>\n",
       "    .dataframe tbody tr th:only-of-type {\n",
       "        vertical-align: middle;\n",
       "    }\n",
       "\n",
       "    .dataframe tbody tr th {\n",
       "        vertical-align: top;\n",
       "    }\n",
       "\n",
       "    .dataframe thead th {\n",
       "        text-align: right;\n",
       "    }\n",
       "</style>\n",
       "<table border=\"1\" class=\"dataframe\">\n",
       "  <thead>\n",
       "    <tr style=\"text-align: right;\">\n",
       "      <th></th>\n",
       "      <th>ProductId</th>\n",
       "      <th>UserId</th>\n",
       "      <th>Score</th>\n",
       "      <th>Summary</th>\n",
       "      <th>Text</th>\n",
       "      <th>combined</th>\n",
       "      <th>n_tokens</th>\n",
       "      <th>babbage_similarity</th>\n",
       "      <th>babbage_search</th>\n",
       "    </tr>\n",
       "  </thead>\n",
       "  <tbody>\n",
       "    <tr>\n",
       "      <th>0</th>\n",
       "      <td>B003XPF9BO</td>\n",
       "      <td>A3R7JR3FMEBXQB</td>\n",
       "      <td>5</td>\n",
       "      <td>where does one  start...and stop... with a tre...</td>\n",
       "      <td>Wanted to save some to bring to my Chicago fam...</td>\n",
       "      <td>Title: where does one  start...and stop... wit...</td>\n",
       "      <td>51</td>\n",
       "      <td>[-0.01274053193628788, 0.010849879123270512, -...</td>\n",
       "      <td>[-0.01880764216184616, 0.019457539543509483, -...</td>\n",
       "    </tr>\n",
       "    <tr>\n",
       "      <th>1</th>\n",
       "      <td>B003JK537S</td>\n",
       "      <td>A3JBPC3WFUT5ZP</td>\n",
       "      <td>1</td>\n",
       "      <td>Arrived in pieces</td>\n",
       "      <td>Not pleased at all. When I opened the box, mos...</td>\n",
       "      <td>Title: Arrived in pieces; Content: Not pleased...</td>\n",
       "      <td>35</td>\n",
       "      <td>[-0.024154752492904663, 0.0024838377721607685,...</td>\n",
       "      <td>[-0.03571609780192375, 0.010356518439948559, -...</td>\n",
       "    </tr>\n",
       "    <tr>\n",
       "      <th>2</th>\n",
       "      <td>B000JMBE7M</td>\n",
       "      <td>AQX1N6A51QOKG</td>\n",
       "      <td>4</td>\n",
       "      <td>It isn't blanc mange, but isn't bad . . .</td>\n",
       "      <td>I'm not sure that custard is really custard wi...</td>\n",
       "      <td>Title: It isn't blanc mange, but isn't bad . ....</td>\n",
       "      <td>277</td>\n",
       "      <td>[0.0032693513203412294, 0.017815979197621346, ...</td>\n",
       "      <td>[-0.010433986783027649, 0.024620095267891884, ...</td>\n",
       "    </tr>\n",
       "    <tr>\n",
       "      <th>3</th>\n",
       "      <td>B004AHGBX4</td>\n",
       "      <td>A2UY46X0OSNVUQ</td>\n",
       "      <td>3</td>\n",
       "      <td>These also have SALT and it's not sea salt.</td>\n",
       "      <td>I like the fact that you can see what you're g...</td>\n",
       "      <td>Title: These also have SALT and it's not sea s...</td>\n",
       "      <td>246</td>\n",
       "      <td>[-0.03584608808159828, 0.03424076735973358, -0...</td>\n",
       "      <td>[-0.040209852159023285, 0.03804996609687805, -...</td>\n",
       "    </tr>\n",
       "    <tr>\n",
       "      <th>4</th>\n",
       "      <td>B001BORBHO</td>\n",
       "      <td>A1AFOYZ9HSM2CZ</td>\n",
       "      <td>5</td>\n",
       "      <td>Happy with the product</td>\n",
       "      <td>My dog was suffering with itchy skin.  He had ...</td>\n",
       "      <td>Title: Happy with the product; Content: My dog...</td>\n",
       "      <td>87</td>\n",
       "      <td>[0.005218076519668102, 0.018165964633226395, -...</td>\n",
       "      <td>[0.010450801812112331, 0.022801749408245087, -...</td>\n",
       "    </tr>\n",
       "  </tbody>\n",
       "</table>\n",
       "</div>"
      ],
      "text/plain": [
       "    ProductId          UserId  Score  \\\n",
       "0  B003XPF9BO  A3R7JR3FMEBXQB      5   \n",
       "1  B003JK537S  A3JBPC3WFUT5ZP      1   \n",
       "2  B000JMBE7M   AQX1N6A51QOKG      4   \n",
       "3  B004AHGBX4  A2UY46X0OSNVUQ      3   \n",
       "4  B001BORBHO  A1AFOYZ9HSM2CZ      5   \n",
       "\n",
       "                                             Summary  \\\n",
       "0  where does one  start...and stop... with a tre...   \n",
       "1                                  Arrived in pieces   \n",
       "2          It isn't blanc mange, but isn't bad . . .   \n",
       "3        These also have SALT and it's not sea salt.   \n",
       "4                             Happy with the product   \n",
       "\n",
       "                                                Text  \\\n",
       "0  Wanted to save some to bring to my Chicago fam...   \n",
       "1  Not pleased at all. When I opened the box, mos...   \n",
       "2  I'm not sure that custard is really custard wi...   \n",
       "3  I like the fact that you can see what you're g...   \n",
       "4  My dog was suffering with itchy skin.  He had ...   \n",
       "\n",
       "                                            combined  n_tokens  \\\n",
       "0  Title: where does one  start...and stop... wit...        51   \n",
       "1  Title: Arrived in pieces; Content: Not pleased...        35   \n",
       "2  Title: It isn't blanc mange, but isn't bad . ....       277   \n",
       "3  Title: These also have SALT and it's not sea s...       246   \n",
       "4  Title: Happy with the product; Content: My dog...        87   \n",
       "\n",
       "                                  babbage_similarity  \\\n",
       "0  [-0.01274053193628788, 0.010849879123270512, -...   \n",
       "1  [-0.024154752492904663, 0.0024838377721607685,...   \n",
       "2  [0.0032693513203412294, 0.017815979197621346, ...   \n",
       "3  [-0.03584608808159828, 0.03424076735973358, -0...   \n",
       "4  [0.005218076519668102, 0.018165964633226395, -...   \n",
       "\n",
       "                                      babbage_search  \n",
       "0  [-0.01880764216184616, 0.019457539543509483, -...  \n",
       "1  [-0.03571609780192375, 0.010356518439948559, -...  \n",
       "2  [-0.010433986783027649, 0.024620095267891884, ...  \n",
       "3  [-0.040209852159023285, 0.03804996609687805, -...  \n",
       "4  [0.010450801812112331, 0.022801749408245087, -...  "
      ]
     },
     "execution_count": 9,
     "metadata": {},
     "output_type": "execute_result"
    }
   ],
   "source": [
    "# https://www.kaggle.com/datasets/snap/amazon-fine-food-reviews\n",
    "# Precomputed embeddings\n",
    "\n",
    "datafile_path = \"https://cdn.openai.com/API/examples/data/fine_food_reviews_with_embeddings_1k.csv\"\n",
    "df = pd.read_csv(datafile_path)\n",
    "df.head()"
   ]
  }
 ],
 "metadata": {
  "kernelspec": {
   "display_name": "Exploring_GPT3",
   "language": "python",
   "name": "exploring_gpt3"
  },
  "language_info": {
   "codemirror_mode": {
    "name": "ipython",
    "version": 3
   },
   "file_extension": ".py",
   "mimetype": "text/x-python",
   "name": "python",
   "nbconvert_exporter": "python",
   "pygments_lexer": "ipython3",
   "version": "3.10.7"
  }
 },
 "nbformat": 4,
 "nbformat_minor": 5
}
